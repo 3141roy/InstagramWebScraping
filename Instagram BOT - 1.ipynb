{
 "cells": [
  {
   "cell_type": "markdown",
   "id": "071d1e0a",
   "metadata": {},
   "source": [
    "### Instabot\n",
    "\n",
    "Your friend has opened a new Food Blogging handle on Instagram and wants to get famous. He wants to follow a lot of people so that he can get noticed quickly but it is a tedious task so he asks you to help him. As you have just learned automation using Selenium, you decided to help him by creating an Instagram Bot.\n",
    "\n",
    "You need to create different functions for each task.\n",
    "\n",
    "Note :\n",
    "Don’t forget to remove your Username and Password from the python notebook before submission.\n",
    "Replace your username and password by ‘SAMPLE USERNAME’ and ‘SAMPLE PASSWORD’ where you have used them in your code for logging in to instagram\n",
    "\n",
    "Upload your code file for submission of this project"
   ]
  },
  {
   "cell_type": "code",
   "execution_count": 65,
   "id": "b688efd3",
   "metadata": {},
   "outputs": [],
   "source": [
    "from selenium import webdriver\n",
    "from selenium.webdriver.support import expected_conditions as EC\n",
    "from selenium.webdriver.support.ui import WebDriverWait\n",
    "from selenium.webdriver.common.by import By\n",
    "from selenium.common.exceptions import TimeoutException\n",
    "from bs4 import BeautifulSoup\n",
    "import time\n",
    "\n",
    "driver = webdriver.Chrome()"
   ]
  },
  {
   "cell_type": "code",
   "execution_count": 66,
   "id": "beb900ee",
   "metadata": {},
   "outputs": [],
   "source": [
    "driver.get('https://Instagram.com')\n",
    "wait = WebDriverWait(driver, 5)"
   ]
  },
  {
   "cell_type": "code",
   "execution_count": 67,
   "id": "f0d79451",
   "metadata": {},
   "outputs": [],
   "source": [
    "username = #USERNAME\n",
    "password = #Password"
   ]
  },
  {
   "cell_type": "markdown",
   "id": "2c81d138",
   "metadata": {},
   "source": [
    "### Logging in to the Instagram Handle"
   ]
  },
  {
   "cell_type": "code",
   "execution_count": 68,
   "id": "ccd44f7f",
   "metadata": {},
   "outputs": [],
   "source": [
    "enter_u=driver.find_element_by_name('username')\n",
    "enter_p=driver.find_element_by_name('password')\n",
    "\n",
    "enter_u.send_keys(username)\n",
    "enter_p.send_keys(password)\n",
    "\n",
    "driver.find_element_by_xpath('//button[contains(@class, \"sqdOP\")]/div').click()"
   ]
  },
  {
   "cell_type": "markdown",
   "id": "e919ec9c",
   "metadata": {},
   "source": [
    "Here we have logged in to our Instagram accounts by passing the username and password to the respective Boxes after searching them via their names and clicking the login button by finding a part of its corresponding Class.\n",
    "\n",
    "A Save your login info button may come. We will not save it and continue"
   ]
  },
  {
   "cell_type": "code",
   "execution_count": 69,
   "id": "fd42363b",
   "metadata": {},
   "outputs": [],
   "source": [
    "driver.find_element_by_xpath('//button[contains(@class, \"sqdOP\")]').click()"
   ]
  },
  {
   "cell_type": "markdown",
   "id": "4a4196f1",
   "metadata": {},
   "source": [
    "Now an alert comes to turn on notifications. We will turn these off.\n"
   ]
  },
  {
   "cell_type": "code",
   "execution_count": 70,
   "id": "5962ef03",
   "metadata": {},
   "outputs": [],
   "source": [
    "driver.find_element_by_xpath('//button[contains(@class, \"HoLwm\")]').click()\n",
    "wait = WebDriverWait(driver, 5)"
   ]
  },
  {
   "cell_type": "markdown",
   "id": "6a098154",
   "metadata": {},
   "source": [
    "### Problem 2 : Food in Search bar\n",
    "Type for “food” in search bar and print all the names of the Instagram Handles that are displayed in list after typing “food”\n",
    "\n",
    "Note : Make sure to avoid printing hashtags"
   ]
  },
  {
   "cell_type": "code",
   "execution_count": 37,
   "id": "224af653",
   "metadata": {},
   "outputs": [
    {
     "name": "stdout",
     "output_type": "stream",
     "text": [
      "food.creek18\n",
      "foodymoody0712\n",
      "foodie_incarnate\n",
      "delhifoodwalks\n",
      "skipabite\n",
      "tasty.foodrecipes\n",
      "food\n",
      "foodranchi\n",
      "food_lunatic\n",
      "foodie_mania._\n",
      "motimahalfoodtrucktrail\n",
      "food.darzee\n",
      "hung.rymj\n",
      "foodnatic_kitchen\n",
      "myfoodproject\n",
      "foodboutique16\n",
      "foodporn\n",
      "foodiesince96\n",
      "food_b.a.e\n",
      "thaparfoodfestival\n",
      "foodbible\n",
      "moodiefoodie19\n",
      "thecrazy_foodie\n",
      "foodie__10\n",
      "the_food_maafia\n",
      "foodys\n",
      "thefood.tribe\n",
      "foodiewe\n",
      "bongeats\n",
      "yourfoodlab\n",
      "epicureslc\n",
      "bisckoo\n",
      "foodishoodiofficial\n",
      "foodiepicasso\n",
      "foodsandflavorsbyshilpi\n",
      "Food Square\n",
      "foodanalytics_\n",
      "satshyaa\n",
      "gurgaonfoodblog\n",
      "delhitimes.food\n",
      "food.freedom.newbies\n",
      "_wanderlustfoodie11_\n",
      "the_foodiediaries\n",
      "Food Station\n",
      "foodsbible\n",
      "_travelogy_\n",
      "Food Basket\n",
      "foodnetworkkitchen\n",
      "mumbaifoodie\n",
      "thegreatindianfoodie\n",
      "raipurfoodielove\n"
     ]
    }
   ],
   "source": [
    "driver.find_element_by_xpath('//span[contains(@class, \"TqC_a\")]').click()\n",
    "#We activate the search box for taking in input\n",
    "search = driver.find_element_by_class_name('XTCLo')\n",
    "search.send_keys('food')\n",
    "\n",
    "\n",
    "driver.implicitly_wait(10)\n",
    "list = driver.find_elements_by_xpath('//a[@class=\"-qQT3\"]')\n",
    "#This class contains all the search results\n",
    "names =[]\n",
    "for i in list:\n",
    "    str = i.text.split('\\n')[0]\n",
    "    #If the obtained string starts with a hashtag, we have to ignore it\n",
    "    if(str[0]=='#'):\n",
    "        continue\n",
    "    names.append(i.text.split('\\n')[0])  \n",
    "\n",
    "for i in names:\n",
    "    print(i)"
   ]
  },
  {
   "cell_type": "markdown",
   "id": "68b279a9",
   "metadata": {},
   "source": [
    "### Searching and Opening of Profile\n",
    "Searching and Opening a profile using \n",
    "Open profile of “So Delhi” "
   ]
  },
  {
   "cell_type": "markdown",
   "id": "c0e2d682",
   "metadata": {},
   "source": [
    "First we have to remove the already entered text in search bar"
   ]
  },
  {
   "cell_type": "code",
   "execution_count": 8,
   "id": "3a187af6",
   "metadata": {},
   "outputs": [],
   "source": [
    "driver.find_element_by_xpath('//div[contains(@class,\"coreSpriteSearchClear\")]').click()"
   ]
  },
  {
   "cell_type": "markdown",
   "id": "2de56d54",
   "metadata": {},
   "source": [
    "Now we activate the search button and find the Profile of 'So Delhi'"
   ]
  },
  {
   "cell_type": "code",
   "execution_count": 13,
   "id": "cd382dd5",
   "metadata": {},
   "outputs": [],
   "source": [
    "driver.find_element_by_xpath('//span[contains(@class, \"TqC_a\")]').click()\n",
    "\n",
    "search = driver.find_element_by_class_name('XTCLo')\n",
    "search.send_keys('So Delhi')\n",
    "waiter=WebDriverWait(driver, 10).until(EC.presence_of_element_located((By.CLASS_NAME, \"-qQT3\")))\n",
    "driver.find_element_by_class_name('-qQT3').click()"
   ]
  },
  {
   "cell_type": "markdown",
   "id": "a4c10cee",
   "metadata": {},
   "source": [
    "### Follow/Unfollow\n",
    "Open the Instagram Handle of “So Delhi”\n",
    "\n",
    "Start following it. Print a message if you are already following\n",
    "\n",
    "After following, unfollow the instagram handle. Print a message if you have already unfollowed."
   ]
  },
  {
   "cell_type": "code",
   "execution_count": 14,
   "id": "e1d76d0f",
   "metadata": {},
   "outputs": [
    {
     "name": "stdout",
     "output_type": "stream",
     "text": [
      "You are now following the required account\n"
     ]
    }
   ],
   "source": [
    "follow = driver.find_element_by_xpath('//div[@class=\"XBGH5\"]/div/div/div/button')\n",
    "#This is the path for getting the follow button in the Web Page\n",
    "\n",
    "if(follow.get_attribute('innerHTML')!='Follow'):\n",
    "    #Indicates that we are already following the page\n",
    "    print('The Acccount is already Followed')\n",
    "else:\n",
    "    follow.click()\n",
    "    print('You are now following the required account')"
   ]
  },
  {
   "cell_type": "markdown",
   "id": "98c74307",
   "metadata": {},
   "source": [
    "Now to unfollow the account"
   ]
  },
  {
   "cell_type": "code",
   "execution_count": 15,
   "id": "516ea0b9",
   "metadata": {},
   "outputs": [
    {
     "name": "stdout",
     "output_type": "stream",
     "text": [
      "You are not following the account anymore\n"
     ]
    }
   ],
   "source": [
    "follow = driver.find_element_by_xpath('//div[@class=\"XBGH5\"]/div/div/div[2]/button')\n",
    "if(follow.get_attribute('innerHTML')!='Follow'):\n",
    "    follow.click()\n",
    "    #We now get a promt asking if we really want to Unfollow the Account or not\n",
    "    waiter=WebDriverWait(driver, 10).until(EC.presence_of_element_located((By.CLASS_NAME, \"mt3GC\")))\n",
    "    \n",
    "    #There are two buttons, the first one to unfollow and the second one to cancel the unfollow request\n",
    "    #We choose the first button\n",
    "    \n",
    "    unfollow = driver.find_element_by_xpath('//div[@class=\"mt3GC\"]/button')\n",
    "    unfollow.click()\n",
    "    print('You are not following the account anymore')\n",
    "else:\n",
    "    print('The account is already unfollowed')"
   ]
  },
  {
   "cell_type": "markdown",
   "id": "e18abd11",
   "metadata": {},
   "source": [
    "### Like/Unlike\n",
    "\n",
    "Liking the top 30 posts of the ‘dilsefoodie'. Print message if you have already liked it.\n",
    "\n",
    "Unliking the top 30 posts of the ‘dilsefoodie’. Print message if you have already unliked it."
   ]
  },
  {
   "cell_type": "code",
   "execution_count": 16,
   "id": "504721e8",
   "metadata": {},
   "outputs": [],
   "source": [
    "driver.find_element_by_xpath('//span[contains(@class, \"TqC_a\")]').click()\n",
    "\n",
    "search = driver.find_element_by_class_name('XTCLo')\n",
    "search.send_keys('dilsefoodie')\n",
    "waiter=WebDriverWait(driver, 10).until(EC.presence_of_element_located((By.CLASS_NAME, \"-qQT3\")))\n",
    "driver.find_element_by_class_name('-qQT3').click()"
   ]
  },
  {
   "cell_type": "markdown",
   "id": "37f72434",
   "metadata": {},
   "source": [
    "Now we have opened the profile of dilsefoodie, we will now proceed to scroll the page to load the posts"
   ]
  },
  {
   "cell_type": "code",
   "execution_count": 18,
   "id": "a774772b",
   "metadata": {},
   "outputs": [],
   "source": [
    "driver.execute_script('window.scrollBy(0, 5000);')\n",
    "time.sleep(3)\n",
    "driver.execute_script('window.scrollBy(0, 5000);')\n",
    "time.sleep(3)"
   ]
  },
  {
   "cell_type": "markdown",
   "id": "346d3a35",
   "metadata": {},
   "source": [
    "Now to create a list of all posts"
   ]
  },
  {
   "cell_type": "code",
   "execution_count": 63,
   "id": "e9e3091d",
   "metadata": {},
   "outputs": [
    {
     "name": "stdout",
     "output_type": "stream",
     "text": [
      "The Post is already Liked\n",
      "The Post is already Liked\n",
      "The Post is already Liked\n",
      "The Post is already Liked\n",
      "The Post is already Liked\n",
      "The Post is already Liked\n",
      "The Post is already Liked\n",
      "The Post is already Liked\n",
      "The Post is already Liked\n",
      "The Post is already Liked\n",
      "The Post is already Liked\n",
      "The Post is already Liked\n",
      "The Post is already Liked\n",
      "The Post is already Liked\n",
      "The Post is already Liked\n",
      "The Post is already Liked\n",
      "The Post is already Liked\n",
      "The Post is already Liked\n",
      "The Post is already Liked\n",
      "The Post is already Liked\n",
      "The Post is already Liked\n",
      "The Post is already Liked\n",
      "The Post is already Liked\n",
      "The 24 th post is now liked\n",
      "The 25 th post is now liked\n",
      "The 26 th post is now liked\n",
      "The 27 th post is now liked\n",
      "The 28 th post is now liked\n",
      "The 29 th post is now liked\n",
      "The 30 th post is now liked\n"
     ]
    }
   ],
   "source": [
    "posts = driver.find_elements_by_class_name('v1Nh3')\n",
    "\n",
    "for i in range(0,30):\n",
    "    posts[i].click()\n",
    "    waiter=WebDriverWait(driver, 10).until(EC.presence_of_element_located((By.CLASS_NAME, \"fr66n\")))\n",
    "    #time.sleep(1.)\n",
    "\n",
    "        \n",
    "    button = driver.find_element_by_xpath('//span[contains(@class, \"fr66n\")]/button')\n",
    "    check = driver.find_element_by_xpath('//span[contains(@class, \"fr66n\")]/button/div')\n",
    "    flag = str(check.get_attribute('class')).strip()\n",
    "    #print(flag)\n",
    "    if(flag=='QBdPU'):\n",
    "        print('The Post is already Liked')\n",
    "    else:\n",
    "        button.click()\n",
    "        print('The',str(i+1),'th post is now liked')\n",
    "    \n",
    "    close = driver.find_element_by_xpath('//div[contains(@class, \"NOTWr\")]/button')\n",
    "    close.click()\n",
    "    time.sleep(1)"
   ]
  },
  {
   "cell_type": "markdown",
   "id": "1389b2fb",
   "metadata": {},
   "source": [
    "Now to Dislike the 30 Posts :::"
   ]
  },
  {
   "cell_type": "code",
   "execution_count": 64,
   "id": "37694ab3",
   "metadata": {},
   "outputs": [
    {
     "name": "stdout",
     "output_type": "stream",
     "text": [
      "The 1 th post is now disliked\n",
      "The 2 th post is now disliked\n",
      "The 3 th post is now disliked\n",
      "The 4 th post is now disliked\n",
      "The 5 th post is now disliked\n",
      "The 6 th post is now disliked\n",
      "The 7 th post is now disliked\n",
      "The 8 th post is now disliked\n",
      "The 9 th post is now disliked\n",
      "The 10 th post is now disliked\n",
      "The 11 th post is now disliked\n",
      "The 12 th post is now disliked\n",
      "The 13 th post is now disliked\n",
      "The 14 th post is now disliked\n",
      "The 15 th post is now disliked\n",
      "The 16 th post is now disliked\n",
      "The 17 th post is now disliked\n",
      "The 18 th post is now disliked\n",
      "The 19 th post is now disliked\n",
      "The 20 th post is now disliked\n",
      "The 21 th post is now disliked\n",
      "The 22 th post is now disliked\n",
      "The 23 th post is now disliked\n",
      "The 24 th post is now disliked\n",
      "The 25 th post is now disliked\n",
      "The 26 th post is now disliked\n",
      "The 27 th post is now disliked\n",
      "The 28 th post is now disliked\n",
      "The 29 th post is now disliked\n",
      "The 30 th post is now disliked\n"
     ]
    }
   ],
   "source": [
    "posts = driver.find_elements_by_class_name('v1Nh3')\n",
    "\n",
    "for i in range(0,30):\n",
    "    posts[i].click()\n",
    "    waiter=WebDriverWait(driver, 10).until(EC.presence_of_element_located((By.CLASS_NAME, \"fr66n\")))\n",
    "    #time.sleep(1.)\n",
    "\n",
    "        \n",
    "    button = driver.find_element_by_xpath('//span[contains(@class, \"fr66n\")]/button')\n",
    "    check = driver.find_element_by_xpath('//span[contains(@class, \"fr66n\")]/button/div')\n",
    "    flag = str(check.get_attribute('class')).strip()\n",
    "    #print(flag)\n",
    "    if(flag!='QBdPU'):\n",
    "        print('The Post is not Liked')\n",
    "    else:\n",
    "        button.click()\n",
    "        print('The',str(i+1),'th post is now disliked')\n",
    "    \n",
    "    close = driver.find_element_by_xpath('//div[contains(@class, \"NOTWr\")]/button')\n",
    "    close.click()\n",
    "    time.sleep(1)"
   ]
  },
  {
   "cell_type": "markdown",
   "id": "a5811481",
   "metadata": {},
   "source": [
    "### List of Followers\n",
    "Extract the usernames of the first 500 followers of ‘foodtalkindia’ and ‘sodelhi’.\n",
    "\n",
    "Now print all the followers of “foodtalkindia” that you are following but those who don’t follow you."
   ]
  },
  {
   "cell_type": "markdown",
   "id": "4f05fb13",
   "metadata": {},
   "source": [
    "First extracting the followers of FoodTalkIndia"
   ]
  },
  {
   "cell_type": "code",
   "execution_count": 71,
   "id": "f5eec9ce",
   "metadata": {},
   "outputs": [],
   "source": [
    "driver.find_element_by_xpath('//span[contains(@class, \"TqC_a\")]').click()\n",
    "\n",
    "search = driver.find_element_by_class_name('XTCLo')\n",
    "search.send_keys('foodtalkindia')\n",
    "waiter=WebDriverWait(driver, 10).until(EC.presence_of_element_located((By.CLASS_NAME, \"-qQT3\")))\n",
    "driver.find_element_by_class_name('-qQT3').click()"
   ]
  },
  {
   "cell_type": "markdown",
   "id": "c1d41e2f",
   "metadata": {},
   "source": [
    "Now to open the followers list on the webpage"
   ]
  },
  {
   "cell_type": "code",
   "execution_count": 80,
   "id": "de9f2b40",
   "metadata": {},
   "outputs": [],
   "source": [
    "driver.find_element_by_xpath('//a[contains(@class, \"-nal3\")]').click()"
   ]
  },
  {
   "cell_type": "markdown",
   "id": "41aa52aa",
   "metadata": {},
   "source": [
    "Now we begin the operation to extract the list of 500 followers"
   ]
  },
  {
   "cell_type": "code",
   "execution_count": 81,
   "id": "5c116a54",
   "metadata": {},
   "outputs": [
    {
     "name": "stdout",
     "output_type": "stream",
     "text": [
      "727\n"
     ]
    }
   ],
   "source": [
    "frame = driver.find_element_by_class_name('isgrP')\n",
    "\n",
    "for i in range(100):\n",
    "    driver.execute_script(\"arguments[0].scrollTop=arguments[0].scrollHeight\",frame)\n",
    "    time.sleep(0.5)\n",
    "    \n",
    "followers = driver.find_elements_by_xpath('//a[contains(@class, \"notranslate\")]')\n",
    "print(len(followers))"
   ]
  },
  {
   "cell_type": "code",
   "execution_count": 82,
   "id": "bc39bc3c",
   "metadata": {},
   "outputs": [
    {
     "name": "stdout",
     "output_type": "stream",
     "text": [
      "['himkireet', 'thoke.vaishnavi', 'storiesbyanabi', 'lilachaudhery', '__chefankit01', 'kinderpetsofficial', 'innocent_love__133', 'anshulpahuja', 'shoibam_', 'its_me___o_m___', 'vardhanreddy2022', 'kapil_lodhi_111', 'vanyaojha', 'vijailakshmanan05', 'yoginiarchita', 'productgraphybyvipin', 'kuldeepsing637836', 'rehan.baba.786', 'chithra_pilu', 'ashfaquealam0202_a_m', 'shobhna.nirmal.52', 'kavita.chotaliya.94', 'shahleena91270', 'shivshakti_o9', 'chefprbu', 'vrushu17_t_k', 'cook_by_chance0', 'r.s_furniture_house_toosa', 'rishky98', '_icyy_995', 'kr.swetank', 'basically_sourav', '_navaneeth_reddy_', 'shyamsundarkirar', 'aro_khabo91', 'fatimazoya1996', 'sikanderjaat30', 'foodfood2892', 'mommyitup', 'praya12323', '_sumitgupta28', 'meemo_thecat', 'official_king_of_brown_boy', 'the_foodie_bloke', 'tiz_me_asit', 'harshitasharma021', 'kedarjadhav_1', 'vandana_sao', 'vivekbhardwaj1701', 'jalpa5246', 'glampingwithsukoon', 'mepradeepjoshi', 'ruchigoel1101', 'lolwah_real_estate', 'meghhamehta', 'lovelaughlive_megs', 'utkarsh143cacs', 'tejassamant009', 'himu123803', 'rss_1.231052', 'rinkle03', '_.parmeet._.kaur._', 'amit.tomer.7547', 'adeshgupta409', 'samarthgoyal0055', 'aggarwalharsh218', 'amaira_nth', 'shivaniarora1977', 'mukeshsuryavanshi23', 'ilpanuozzo.india', 'mr_deval_07', 'arjun__1209', 'girly_muslim33', 'gaurav_diwakar98', 'vchhabra04', 'aprill_artwork', 'ar.junkumar7393', 'exquisitebakes_by_nidhi', 'notbadjatt', 'anazmohmmd', 'diets_by_ayushi', 'candleshop35', 'sridevikurup', 'cura_mumbai', 'arjunmalik1108', 'jatt_2075_11', 'dharanidharan00v', 'abheythapar', 'arogo._', 'indore.bulletin', 'kiranloopzz', 'sizzling_sites', 'jinc_the_foode', 'dharan__v', '___.w.a.n.d.e.r.l.u.s.t.____', 'mehar9.foodie', 'rasheenangalia', 'switch_enrich', 'kunchalaanand', 'peace_dude_06', 'simrand123', 'thenameisdineshsoren', 'jay__engineering', 'aryadhenushudhkhand', 'sakhilgirdhar', 'indianarmy_5499', 'bhati.radhika36', 'mohithabi', 'navmanjari', 'magretelepxha', 'eatkrisskross', 'ganesh_balaji_er', 'rohit_26g', 'taniya_ghh', 'simargulatii', 'myy.miniworld', 'kudlas_kitchen', 'official_swapnya6790', 'bongfoodaristocart', 'may_be_gentleman', 'muktagoyal20', 'nilampatankar', 'm15cz', 'pbpranshu', 'iraman.91k', 'madaniaanchal', 'iambhavi_vlog', 'sophiyaky31', 'ravpreet.nikki', 'khadad_bandya', 'in.rjoshi', 'foodie_nation_me', 'small_biz_promotion', 'bbabaji854', 'chintu_mr_nothing_', 'rongonchoudhury', 'anshi_chocopie', 'suchi_shah35', 'roopali.sood', 'grow.cook.relish', 'imav.07', 'singh92p', 'konnichiwa_india', 'indian_food_secrets', 'harsh_unadkat15062002', 'sanjanapanjwanimua', 'nisharawat2186', 'kreatives_foodie', 'deeptijain_nutritionist', 'abhijithoo7', 'dazzles_n_shimmers', 'nikhil.dobriyal', 'sandy_2485', 'mohitbachani7', 'indraani_1510', 'cakes_andgrills', 'gauravkkavi', 'pri.dhir', 'jeetsb808', 'yummsyworld', 'abhinavchandwal', 'shashikantmishra760', 'vikram__vikram5589', 'yasminsketchin', 'shwetashriwastva', 'abcdhanraj', 'mayank_____a79', 'earthplanet900', 'hetal.karelia', 'hiya_mittal', 'thegreenwokgk1', 'samideansari', 'vidisha_07', 'vinnyk26', 'ptofeeq', '_nimisha_sri', 'anand_stall_vileparle', 'saket._gupta', 'lakshmi_pandu23', 'kedar1287singhgmail.com_', 'sultan75746', 'blizz__uu', 'sreeni.itsme', 'kesarwanibhagyashree', 'tinajomanuel', 'your__bowl', 'dhramraj_lasel', 'the_kookingqueen', 'meghana3915', 'foodandagrimcq', 'manyachaturvedi12', 'amansinha16', 'kulkarnitej', 'aman.deep.20', 'anupamdikhit', 'kaavyasriram', 'tundaykababipvtltd', 'shri_vaish', 'nobitaaaa_________', 'karuna_rizvi_', 'impatient_optimist_', 'shanmugam_r_m', 'choprakomal', 'tara_junge_103', '__cooking_corner_', 'akshaypatil_98', 'balwinderbawa0', 'madhurigarg9789', 'mahamed_shahad', 'ghansyam.bhusal', 'rosh_0722', 'bakennutsroyale', 'noorcakehouse_', 'healthyfood_sumanmehta', '_chicken_choice_', 'cfc_bhabua', 'pcobombay', 'manjurkhan657', 'simrannaggarwal', 'sunshine_mixedwith_rain', '___parth__333', 'eknoor_baidwan', 'italian_zilla', 'artimanish', 'kulinarykodavas', 'shivi_9381', 'shaik.bittu18', 'ishita.agarwal15', 'the_hungerbegins', 'bad_boy_ktm8899', 'rajesh_shahwal6', 'sabir__patel', 'mum_eatz', 'saladpod_official', 'craving_king_mathura', 'arez.oo_n', 'rahulsinghpipliwal', 'savitha_sav_05', 'fusionfoodtale', 'letsgetlost1422', 'foodie_mosh', 'wingci_p9999', 'lovedarkphotographers', 'i_am_bittu_.07', 'maverick_181', 'baked_for_fiestas', 'ashishsikka28', 'hinabilawalkhan_', 'yakubhaan', 'the_food_icon0', '__its__hemant_', 'bonnyr1091', 'gixn2022', 'gandharvmalhotra', 'ushataneja1502', 'ikonaromatic', 'the_chetansoni_2786', 'anjanamehraanjii', 'fit_squad_candy', 'username745900', 'otlothecafe', '___m.r___single___', 'nishant.goel.08', 'akkaura21', 'hymavathi.k.5203', 'anand_____singh9211', 'onthego_captures', 'they_call_me_nishh', 'swatidwivedi168', '_.ceratizm._', 'jenni_ananth', 'harsh_goyal4349', 'piyush.sikka', 'vaniparashar28', 'aayush_tawde', 'jahnavi_subbu', 'aniket_bhai_7905', 'streetfoodbazaar', 'orchha_namaste', '52liam199474b', 'diveshrohra', 'pradhan_sidharth5', '_jihanmusic_', 'sindhureddy_sv95', 'pindballuchiagra', 'bansalkushagraa', 'stanzindolkardimbir', 'zusthetics', 'vaishnavik70', 'hellrooster05', 'barbell_and_beast_nutrition', 'goaonmymind', 'ishneet_28', '_.soul._lover', 'manikaboipai', 'mr_sha2000', 'naveen_nambadan', 'aviav1980', 'ipriyanshu05', 'abdur_rahman_thakur', 'rash23.designs', 'y_a_s_h_172508', 'anvi_1321', 'mumbai_foodexplorers', 'ankupreti', 'imeaurshai', 'nithu__vava', 'awesomedesignboutique', 'vakas_ahmed_', 'emankirat__mann', '_nimitaa_', 'tyagirajul', 'priss.ax', 'cutejeans1510', 'krishna_mahajan8', 'smitatripathi', 'lubi.dubi007', 'tbmfoods', 'itz_ishu13', 'dip.some.more', 'cooking.with.vimrata', 'vishalsharma03', 'daredevilricha', 'santrapranab2021', 'greenbohemian30', 'tapanshugehlot', 'surbhi_midha', '_samm_malik', 'shruti.ashar', 'zareen.khan24', 'quotes_motivation_calligraphy', 'raopranjalyadav', 'bachpananishabad', 'happytohelptech', 'thathungrybhukkad', 'sayar.balak', 'wanderlust_dreamer6120', 'p_dot_j', 'i_miss_you.143.2', 'raman_kamboj97', 'sowndharya_guru', 'bhushanborse1', 'geetzz_pvt', 'aishwarya.ash98', 'tanya_singh1499', 'jessica._.pvt', 'shivani.malhotra309', 'abhi.v2106', 'krishna_sthitpragya', 'kankaria_bhavna', 'ruheensingh', 'dryfruitvala', 'teanmea', 'pushpraj412', 'rachna.m.goel', 'shubhammayal', 'thekitchenstoryyy', 'adeetii', 'kadambarimatta', 'divyababbar24', 'niki_kohli0422', 'stalwartquneen20', 'army_boyzz_578', 'aas.thaa30', 'shrutikarastogi', 'pritam_das_theproblemsolver', 'hemantnautiyal', 'pizzario.miraroad', 'snackamor', 'insiya.mithaiwala', 'raghugill202', 'simran_2095', 'affansayyed36', 'indianfoodispy', 'mrinalsethi', 'karanjindalkj', 'samhita_2009', 'kirtikatolia', 'muzammmilsakawala', 'abi.16_09', 'rishika1302', 'moonriceshri', 'sooper.__cooking', 'foodicious_itechgod', 'mahe_02nov', 'its_sanyasingh', 'shivangi_sharma1516', 'bakingisstressbusting', 'luchalittle', 'saviturindustries', 'gawsditi', 'thagguksamose', '__arbaz_08_', 'the_food_kaleidoscope', 'craftsuppliesdelhincr', 'satvik.sehgal', 'summation_2022', 'neelima_surana', 'shine.saa222', 'fiberglass5', 'falgunichanchlani', 'sharma_girl1102', 'gimmii_sharma_1777', 'niravkgala', 'geeta_bhoj_', 'iam_ssheikh', 'subbitravelandfood', 'wanderer_ritz', 'singhstreak', 'hakimova.yorqinoy', 'jitend2505', 'arshiadutta', 'prajwal8321', 'honeypiee1717', 'dhrumi.me', 'aman_vehanvaal', 'kameishafooddiary', 'mr.shiva__yadav', 'its__me_rehan_khan', '5138_yusuf', 'vaishu_aaru', 'amanbansal505', 'tasty_bite_88', 'rashiv.gupta', 'pranshugoel', 'erum30345', 'sahil_sait._', 'seema.parvez', 'crustintime_india', 'nri.sareelover.melb', 'spicetheoryin', 'hardikvats_._', 'ashu0009', 'sanskriti1407', '_ghar_ka__khana', 'sanjaysubhranshu', 'upscprepforyou', 'satyam__vishwakarma__09', 'anil.bung', 'phalgun_chidanand', 'shikhs_kapur', 'sheenubl', 'parisian_bakery', 'annudogra_official', 'outlethandiaya', 'food_malsi', 'tubaaslam12345678', 'vamseekrishna_s', 'snehaa2296', 'jiten.chauhan10', 'shubhlabhh', 'rabz_the_nocturnal_investor', 'sanmoy_saha', 'itsdevinthere', 'maheepisbored', 'aditiarvindtiwari08', 'anindita_aich', 'dessert_play', 'rise_interior22', 'bhanas.bhat', 'ritikasingh_78', 'bhavika1308', 'amansinghdeep01', 'sreedevi.sreenivasan', 'the_twinkle.eye', 'theeffortlesschic_', 'themilestoner', 'marjorie_8789', 'ruchi_k24', 'nidhimehra22', 'kashyapnaresh44', 'mumbai_local_food', 'chreonatural', 'saii_duck', 'naazkhan070806', 'pumpkin.pvt', 'imboredlolskrrt', 'mr_sharim___ak47', 'siddharth_7078', 'sameerpeswani', 'ipu809', 'varghese_meenu', 'foody_at_forty', 'garima2407', 'neelimabector', 'mrinaudiere', '68rita__giovanna9', '_ditisaini_', '_.chubby._brown._girl._', 'bramhanshiv20002021', 'saniya_yunus_', '_arctic_witch', 'stavhoecados', 'rishabh_dubeyy', 'girish0333', 'zuubbiiiii', 'dishi_divi', 'cookienutsindia', 'tanyaa.jpg', 'sapna.taneja11']\n"
     ]
    }
   ],
   "source": [
    "list1 = []\n",
    "for i in followers[:500] :\n",
    "    list1.append(i.text.split('\\n')[0])\n",
    "    \n",
    "print(list1)"
   ]
  },
  {
   "cell_type": "markdown",
   "id": "855fda84",
   "metadata": {},
   "source": [
    "Now we repeat the same operation for sodelhi"
   ]
  },
  {
   "cell_type": "code",
   "execution_count": 83,
   "id": "4f3c06ba",
   "metadata": {},
   "outputs": [],
   "source": [
    "# First we close the followers pop up on the screen\n",
    "driver.find_element_by_xpath('//div[contains(@class, \"WaOAr\")]/button').click()"
   ]
  },
  {
   "cell_type": "code",
   "execution_count": 84,
   "id": "3f6327ce",
   "metadata": {},
   "outputs": [
    {
     "name": "stdout",
     "output_type": "stream",
     "text": [
      "['himkireet', 'thoke.vaishnavi', 'storiesbyanabi', 'lilachaudhery', '__chefankit01', 'kinderpetsofficial', 'innocent_love__133', 'anshulpahuja', 'shoibam_', 'its_me___o_m___', 'vardhanreddy2022', 'kapil_lodhi_111', 'vanyaojha', 'vijailakshmanan05', 'yoginiarchita', 'productgraphybyvipin', 'kuldeepsing637836', 'rehan.baba.786', 'chithra_pilu', 'ashfaquealam0202_a_m', 'shobhna.nirmal.52', 'kavita.chotaliya.94', 'shahleena91270', 'shivshakti_o9', 'chefprbu', 'vrushu17_t_k', 'cook_by_chance0', 'r.s_furniture_house_toosa', 'rishky98', '_icyy_995', 'kr.swetank', 'basically_sourav', '_navaneeth_reddy_', 'shyamsundarkirar', 'aro_khabo91', 'fatimazoya1996', 'sikanderjaat30', 'foodfood2892', 'mommyitup', 'praya12323', '_sumitgupta28', 'meemo_thecat', 'official_king_of_brown_boy', 'the_foodie_bloke', 'tiz_me_asit', 'harshitasharma021', 'kedarjadhav_1', 'vandana_sao', 'vivekbhardwaj1701', 'jalpa5246', 'glampingwithsukoon', 'mepradeepjoshi', 'ruchigoel1101', 'lolwah_real_estate', 'meghhamehta', 'lovelaughlive_megs', 'utkarsh143cacs', 'tejassamant009', 'himu123803', 'rss_1.231052', 'rinkle03', '_.parmeet._.kaur._', 'amit.tomer.7547', 'adeshgupta409', 'samarthgoyal0055', 'aggarwalharsh218', 'amaira_nth', 'shivaniarora1977', 'mukeshsuryavanshi23', 'ilpanuozzo.india', 'mr_deval_07', 'arjun__1209', 'girly_muslim33', 'gaurav_diwakar98', 'vchhabra04', 'aprill_artwork', 'ar.junkumar7393', 'exquisitebakes_by_nidhi', 'notbadjatt', 'anazmohmmd', 'diets_by_ayushi', 'candleshop35', 'sridevikurup', 'cura_mumbai', 'arjunmalik1108', 'jatt_2075_11', 'dharanidharan00v', 'abheythapar', 'arogo._', 'indore.bulletin', 'kiranloopzz', 'sizzling_sites', 'jinc_the_foode', 'dharan__v', '___.w.a.n.d.e.r.l.u.s.t.____', 'mehar9.foodie', 'rasheenangalia', 'switch_enrich', 'kunchalaanand', 'peace_dude_06', 'simrand123', 'thenameisdineshsoren', 'jay__engineering', 'aryadhenushudhkhand', 'sakhilgirdhar', 'indianarmy_5499', 'bhati.radhika36', 'mohithabi', 'navmanjari', 'magretelepxha', 'eatkrisskross', 'ganesh_balaji_er', 'rohit_26g', 'taniya_ghh', 'simargulatii', 'myy.miniworld', 'kudlas_kitchen', 'official_swapnya6790', 'bongfoodaristocart', 'may_be_gentleman', 'muktagoyal20', 'nilampatankar', 'm15cz', 'pbpranshu', 'iraman.91k', 'madaniaanchal', 'iambhavi_vlog', 'sophiyaky31', 'ravpreet.nikki', 'khadad_bandya', 'in.rjoshi', 'foodie_nation_me', 'small_biz_promotion', 'bbabaji854', 'chintu_mr_nothing_', 'rongonchoudhury', 'anshi_chocopie', 'suchi_shah35', 'roopali.sood', 'grow.cook.relish', 'imav.07', 'singh92p', 'konnichiwa_india', 'indian_food_secrets', 'harsh_unadkat15062002', 'sanjanapanjwanimua', 'nisharawat2186', 'kreatives_foodie', 'deeptijain_nutritionist', 'abhijithoo7', 'dazzles_n_shimmers', 'nikhil.dobriyal', 'sandy_2485', 'mohitbachani7', 'indraani_1510', 'cakes_andgrills', 'gauravkkavi', 'pri.dhir', 'jeetsb808', 'yummsyworld', 'abhinavchandwal', 'shashikantmishra760', 'vikram__vikram5589', 'yasminsketchin', 'shwetashriwastva', 'abcdhanraj', 'mayank_____a79', 'earthplanet900', 'hetal.karelia', 'hiya_mittal', 'thegreenwokgk1', 'samideansari', 'vidisha_07', 'vinnyk26', 'ptofeeq', '_nimisha_sri', 'anand_stall_vileparle', 'saket._gupta', 'lakshmi_pandu23', 'kedar1287singhgmail.com_', 'sultan75746', 'blizz__uu', 'sreeni.itsme', 'kesarwanibhagyashree', 'tinajomanuel', 'your__bowl', 'dhramraj_lasel', 'the_kookingqueen', 'meghana3915', 'foodandagrimcq', 'manyachaturvedi12', 'amansinha16', 'kulkarnitej', 'aman.deep.20', 'anupamdikhit', 'kaavyasriram', 'tundaykababipvtltd', 'shri_vaish', 'nobitaaaa_________', 'karuna_rizvi_', 'impatient_optimist_', 'shanmugam_r_m', 'choprakomal', 'tara_junge_103', '__cooking_corner_', 'akshaypatil_98', 'balwinderbawa0', 'madhurigarg9789', 'mahamed_shahad', 'ghansyam.bhusal', 'rosh_0722', 'bakennutsroyale', 'noorcakehouse_', 'healthyfood_sumanmehta', '_chicken_choice_', 'cfc_bhabua', 'pcobombay', 'manjurkhan657', 'simrannaggarwal', 'sunshine_mixedwith_rain', '___parth__333', 'eknoor_baidwan', 'italian_zilla', 'artimanish', 'kulinarykodavas', 'shivi_9381', 'shaik.bittu18', 'ishita.agarwal15', 'the_hungerbegins', 'bad_boy_ktm8899', 'rajesh_shahwal6', 'sabir__patel', 'mum_eatz', 'saladpod_official', 'craving_king_mathura', 'arez.oo_n', 'rahulsinghpipliwal', 'savitha_sav_05', 'fusionfoodtale', 'letsgetlost1422', 'foodie_mosh', 'wingci_p9999', 'lovedarkphotographers', 'i_am_bittu_.07', 'maverick_181', 'baked_for_fiestas', 'ashishsikka28', 'hinabilawalkhan_', 'yakubhaan', 'the_food_icon0', '__its__hemant_', 'bonnyr1091', 'gixn2022', 'gandharvmalhotra', 'ushataneja1502', 'ikonaromatic', 'the_chetansoni_2786', 'anjanamehraanjii', 'fit_squad_candy', 'username745900', 'otlothecafe', '___m.r___single___', 'nishant.goel.08', 'akkaura21', 'hymavathi.k.5203', 'anand_____singh9211', 'onthego_captures', 'they_call_me_nishh', 'swatidwivedi168', '_.ceratizm._', 'jenni_ananth', 'harsh_goyal4349', 'piyush.sikka', 'vaniparashar28', 'aayush_tawde', 'jahnavi_subbu', 'aniket_bhai_7905', 'streetfoodbazaar', 'orchha_namaste', '52liam199474b', 'diveshrohra', 'pradhan_sidharth5', '_jihanmusic_', 'sindhureddy_sv95', 'pindballuchiagra', 'bansalkushagraa', 'stanzindolkardimbir', 'zusthetics', 'vaishnavik70', 'hellrooster05', 'barbell_and_beast_nutrition', 'goaonmymind', 'ishneet_28', '_.soul._lover', 'manikaboipai', 'mr_sha2000', 'naveen_nambadan', 'aviav1980', 'ipriyanshu05', 'abdur_rahman_thakur', 'rash23.designs', 'y_a_s_h_172508', 'anvi_1321', 'mumbai_foodexplorers', 'ankupreti', 'imeaurshai', 'nithu__vava', 'awesomedesignboutique', 'vakas_ahmed_', 'emankirat__mann', '_nimitaa_', 'tyagirajul', 'priss.ax', 'cutejeans1510', 'krishna_mahajan8', 'smitatripathi', 'lubi.dubi007', 'tbmfoods', 'itz_ishu13', 'dip.some.more', 'cooking.with.vimrata', 'vishalsharma03', 'daredevilricha', 'santrapranab2021', 'greenbohemian30', 'tapanshugehlot', 'surbhi_midha', '_samm_malik', 'shruti.ashar', 'zareen.khan24', 'quotes_motivation_calligraphy', 'raopranjalyadav', 'bachpananishabad', 'happytohelptech', 'thathungrybhukkad', 'sayar.balak', 'wanderlust_dreamer6120', 'p_dot_j', 'i_miss_you.143.2', 'raman_kamboj97', 'sowndharya_guru', 'bhushanborse1', 'geetzz_pvt', 'aishwarya.ash98', 'tanya_singh1499', 'jessica._.pvt', 'shivani.malhotra309', 'abhi.v2106', 'krishna_sthitpragya', 'kankaria_bhavna', 'ruheensingh', 'dryfruitvala', 'teanmea', 'pushpraj412', 'rachna.m.goel', 'shubhammayal', 'thekitchenstoryyy', 'adeetii', 'kadambarimatta', 'divyababbar24', 'niki_kohli0422', 'stalwartquneen20', 'army_boyzz_578', 'aas.thaa30', 'shrutikarastogi', 'pritam_das_theproblemsolver', 'hemantnautiyal', 'pizzario.miraroad', 'snackamor', 'insiya.mithaiwala', 'raghugill202', 'simran_2095', 'affansayyed36', 'indianfoodispy', 'mrinalsethi', 'karanjindalkj', 'samhita_2009', 'kirtikatolia', 'muzammmilsakawala', 'abi.16_09', 'rishika1302', 'moonriceshri', 'sooper.__cooking', 'foodicious_itechgod', 'mahe_02nov', 'its_sanyasingh', 'shivangi_sharma1516', 'bakingisstressbusting', 'luchalittle', 'saviturindustries', 'gawsditi', 'thagguksamose', '__arbaz_08_', 'the_food_kaleidoscope', 'craftsuppliesdelhincr', 'satvik.sehgal', 'summation_2022', 'neelima_surana', 'shine.saa222', 'fiberglass5', 'falgunichanchlani', 'sharma_girl1102', 'gimmii_sharma_1777', 'niravkgala', 'geeta_bhoj_', 'iam_ssheikh', 'subbitravelandfood', 'wanderer_ritz', 'singhstreak', 'hakimova.yorqinoy', 'jitend2505', 'arshiadutta', 'prajwal8321', 'honeypiee1717', 'dhrumi.me', 'aman_vehanvaal', 'kameishafooddiary', 'mr.shiva__yadav', 'its__me_rehan_khan', '5138_yusuf', 'vaishu_aaru', 'amanbansal505', 'tasty_bite_88', 'rashiv.gupta', 'pranshugoel', 'erum30345', 'sahil_sait._', 'seema.parvez', 'crustintime_india', 'nri.sareelover.melb', 'spicetheoryin', 'hardikvats_._', 'ashu0009', 'sanskriti1407', '_ghar_ka__khana', 'sanjaysubhranshu', 'upscprepforyou', 'satyam__vishwakarma__09', 'anil.bung', 'phalgun_chidanand', 'shikhs_kapur', 'sheenubl', 'parisian_bakery', 'annudogra_official', 'outlethandiaya', 'food_malsi', 'tubaaslam12345678', 'vamseekrishna_s', 'snehaa2296', 'jiten.chauhan10', 'shubhlabhh', 'rabz_the_nocturnal_investor', 'sanmoy_saha', 'itsdevinthere', 'maheepisbored', 'aditiarvindtiwari08', 'anindita_aich', 'dessert_play', 'rise_interior22', 'bhanas.bhat', 'ritikasingh_78', 'bhavika1308', 'amansinghdeep01', 'sreedevi.sreenivasan', 'the_twinkle.eye', 'theeffortlesschic_', 'themilestoner', 'marjorie_8789', 'ruchi_k24', 'nidhimehra22', 'kashyapnaresh44', 'mumbai_local_food', 'chreonatural', 'saii_duck', 'naazkhan070806', 'pumpkin.pvt', 'imboredlolskrrt', 'mr_sharim___ak47', 'siddharth_7078', 'sameerpeswani', 'ipu809', 'varghese_meenu', 'foody_at_forty', 'garima2407', 'neelimabector', 'mrinaudiere', '68rita__giovanna9', '_ditisaini_', '_.chubby._brown._girl._', 'bramhanshiv20002021', 'saniya_yunus_', '_arctic_witch', 'stavhoecados', 'rishabh_dubeyy', 'girish0333', 'zuubbiiiii', 'dishi_divi', 'cookienutsindia', 'tanyaa.jpg', 'sapna.taneja11']\n"
     ]
    }
   ],
   "source": [
    "driver.find_element_by_xpath('//span[contains(@class, \"TqC_a\")]').click()\n",
    "\n",
    "search = driver.find_element_by_class_name('XTCLo')\n",
    "search.send_keys('sodelhi')\n",
    "waiter=WebDriverWait(driver, 10).until(EC.presence_of_element_located((By.CLASS_NAME, \"-qQT3\")))\n",
    "driver.find_element_by_class_name('-qQT3').click()\n",
    "\n",
    "driver.find_element_by_xpath('//a[contains(@class, \"-nal3\")]').click()\n",
    "\n",
    "frame = driver.find_element_by_class_name('isgrP')\n",
    "\n",
    "for i in range(100):\n",
    "    driver.execute_script(\"arguments[0].scrollTop=arguments[0].scrollHeight\",frame)\n",
    "    time.sleep(0.5)\n",
    "    \n",
    "followers = driver.find_elements_by_xpath('//a[contains(@class, \"notranslate\")]')\n",
    "\n",
    "list2 = []\n",
    "for i in followers[:500] :\n",
    "    list2.append(i.text.split('\\n')[0])\n",
    "    \n",
    "print(list2)"
   ]
  },
  {
   "cell_type": "markdown",
   "id": "a12698aa",
   "metadata": {},
   "source": [
    "Now for the final task to print the followers of “foodtalkindia” that you are following but those who don’t follow you."
   ]
  },
  {
   "cell_type": "code",
   "execution_count": 85,
   "id": "7fb45751",
   "metadata": {},
   "outputs": [],
   "source": [
    "# First we close the followers pop up on the screen\n",
    "driver.find_element_by_xpath('//div[contains(@class, \"WaOAr\")]/button').click()"
   ]
  },
  {
   "cell_type": "code",
   "execution_count": 90,
   "id": "02e29879",
   "metadata": {},
   "outputs": [],
   "source": [
    "driver.find_element_by_xpath('//span[contains(@class, \"TqC_a\")]').click()\n",
    "\n",
    "search = driver.find_element_by_class_name('XTCLo')\n",
    "search.send_keys(username)\n",
    "waiter=WebDriverWait(driver, 10).until(EC.presence_of_element_located((By.CLASS_NAME, \"-qQT3\")))\n",
    "driver.find_element_by_class_name('-qQT3').click()\n",
    "\n",
    "driver.find_elements_by_xpath('//a[contains(@class, \"-nal3\")]')[1].click()\n",
    "\n",
    "frame = driver.find_element_by_class_name('isgrP')\n",
    "\n",
    "for i in range(40):\n",
    "    driver.execute_script(\"arguments[0].scrollTop=arguments[0].scrollHeight\",frame)\n",
    "    time.sleep(0.5)\n",
    "    \n",
    "followers = driver.find_elements_by_xpath('//a[contains(@class, \"notranslate\")]')\n",
    "\n",
    "list3 = []\n",
    "for i in followers[:500] :\n",
    "    list3.append(i.text.split('\\n')[0])\n",
    "#List 3 contains all those who i follow  "
   ]
  },
  {
   "cell_type": "code",
   "execution_count": 95,
   "id": "cd524753",
   "metadata": {},
   "outputs": [],
   "source": [
    "driver.find_element_by_xpath('//div[contains(@class, \"eiUFA  \")]/div/button').click()\n",
    "\n",
    "search = driver.find_element_by_class_name('XTCLo')\n",
    "search.send_keys(username)\n",
    "waiter=WebDriverWait(driver, 10).until(EC.presence_of_element_located((By.CLASS_NAME, \"-qQT3\")))\n",
    "driver.find_element_by_class_name('-qQT3').click()\n",
    "\n",
    "driver.find_element_by_xpath('//a[contains(@class, \"-nal3\")]').click()\n",
    "\n",
    "frame = driver.find_element_by_class_name('isgrP')\n",
    "\n",
    "for i in range(40):\n",
    "    driver.execute_script(\"arguments[0].scrollTop=arguments[0].scrollHeight\",frame)\n",
    "    time.sleep(0.5)\n",
    "    \n",
    "followers = driver.find_elements_by_xpath('//a[contains(@class, \"notranslate\")]')\n",
    "\n",
    "list4 = []\n",
    "for i in followers[:500] :\n",
    "    list4.append(i.text.split('\\n')[0])\n",
    "#List 4 contains all those who follow me"
   ]
  },
  {
   "cell_type": "code",
   "execution_count": 97,
   "id": "15ee64e6",
   "metadata": {},
   "outputs": [
    {
     "name": "stdout",
     "output_type": "stream",
     "text": [
      "No users found\n"
     ]
    }
   ],
   "source": [
    "#Creating a set of required data\n",
    "s1 = set(list1) #Those who follow foodtalkindia\n",
    "s2 = set(list3) #Those who I follow\n",
    "s3 = set(list4) #Those who follow me\n",
    "\n",
    "s = s1.intersection(s2)\n",
    "\n",
    "if len(s) == 0:\n",
    "    print('No users found')\n",
    "else:\n",
    "    ans = s - s3\n",
    "    #Because we need to find only those which dont follow me\n",
    "    if len(ans) == 0:\n",
    "        print('No users found')\n",
    "    else:\n",
    "        for i in ans:\n",
    "            print(i)"
   ]
  },
  {
   "cell_type": "markdown",
   "id": "d9ab48aa",
   "metadata": {},
   "source": [
    "### Check the Story\n",
    "Check the story of ‘coding.ninjas’. Consider the following Scenarios and print error messages accordingly -\n",
    "\n",
    "If You have already seen the story.\n",
    " \n",
    "Or The user has no story.\n",
    " \n",
    "Or View the story if not yet seen."
   ]
  },
  {
   "cell_type": "code",
   "execution_count": 99,
   "id": "e9799e23",
   "metadata": {},
   "outputs": [],
   "source": [
    "#First we close the pop up from previous operation\n",
    "driver.find_element_by_xpath('//div[contains(@class, \"eiUFA  \")]/div/button').click()"
   ]
  },
  {
   "cell_type": "code",
   "execution_count": 104,
   "id": "31378b1d",
   "metadata": {},
   "outputs": [],
   "source": [
    "#Now we load the profile of Coding Ninjas\n",
    "driver.find_element_by_xpath('//span[contains(@class, \"TqC_a\")]').click()\n",
    "\n",
    "search = driver.find_element_by_class_name('XTCLo')\n",
    "search.send_keys('Coding Ninjas')\n",
    "waiter=WebDriverWait(driver, 10).until(EC.presence_of_element_located((By.CLASS_NAME, \"-qQT3\")))\n",
    "driver.find_element_by_class_name('-qQT3').click()"
   ]
  },
  {
   "cell_type": "code",
   "execution_count": 117,
   "id": "4bcac0d9",
   "metadata": {},
   "outputs": [
    {
     "name": "stdout",
     "output_type": "stream",
     "text": [
      "The Story is viewed\n"
     ]
    }
   ],
   "source": [
    "try:\n",
    "    flag = driver.find_element_by_class_name(\"CfWVH\").get_attribute('style')\n",
    "    #Flag is used to determine the absolute height for finding if story is present or not\n",
    "    flag = int(flag.split('; ')[-1].split(': ')[-1].split('p')[0])\n",
    "    #print(flag)\n",
    "    if (flag==168):\n",
    "        print('Viewing the story')\n",
    "        driver.find_element_by_xpath('//div[contains(@class, \"h5uC0\")]').click()\n",
    "    elif (flag==166):\n",
    "        print('The Story is viewed')\n",
    "except:\n",
    "    print('No Story has been posted')"
   ]
  },
  {
   "cell_type": "code",
   "execution_count": null,
   "id": "dd9b3db4",
   "metadata": {},
   "outputs": [],
   "source": []
  }
 ],
 "metadata": {
  "kernelspec": {
   "display_name": "Python 3",
   "language": "python",
   "name": "python3"
  },
  "language_info": {
   "codemirror_mode": {
    "name": "ipython",
    "version": 3
   },
   "file_extension": ".py",
   "mimetype": "text/x-python",
   "name": "python",
   "nbconvert_exporter": "python",
   "pygments_lexer": "ipython3",
   "version": "3.8.8"
  }
 },
 "nbformat": 4,
 "nbformat_minor": 5
}
